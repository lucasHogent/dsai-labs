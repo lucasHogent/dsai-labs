{
  "cells": [
    {
      "cell_type": "markdown",
      "metadata": {
        "id": "ifLP6PF2VNyG"
      },
      "source": [
        "# Lab 7.03 - Time series analysis"
      ]
    },
    {
      "cell_type": "code",
      "execution_count": 1,
      "metadata": {
        "id": "PwYaTAjzVNyI",
        "metadata": {}
      },
      "outputs": [],
      "source": [
        "# Package imports# Package imports\n",
        "import numpy as np                                  # \"Scientific computing\"\n",
        "import pandas as pd                                 # Dataframe\n",
        "\n",
        "import scipy.stats as stats                         # Statistical tests\n",
        "from sklearn.linear_model import LinearRegression   # Linear regression model\n",
        "\n",
        "import matplotlib.pyplot as plt                     # Basic visualisation\n",
        "from statsmodels.graphics.mosaicplot import mosaic  # Mosaic plot\n",
        "import seaborn as sns                               # Advanced dataviz"
      ]
    },
    {
      "cell_type": "markdown",
      "metadata": {
        "id": "nsaevyk8itxA"
      },
      "source": [
        "## Exercise 3 - Car sales\n",
        "\n",
        "An automobile dealer is using Holt's method to\n",
        "forecast weekly car sales. Currently, the level is\n",
        "estimated to be 50 cars per week, and the trend is\n",
        "estimated to be six cars per week. During the current\n",
        "week, 30 cars are sold. After observing the current\n",
        "week's sales, forecast the number of cars three weeks\n",
        "from now. Use $α = $β = 0.3.\n",
        "\n",
        "These are the appropriate formulae\n",
        "\n",
        "$X_{t} = \\alpha x_{t} + (1-\\alpha)(X_{t-1} + b_{t-1})$\n",
        "\n",
        "$b_{t} = \\beta(X_{t}-X_{t-1}) + (1-\\beta)b_{t-1}$\n",
        "\n",
        "$F_{t+m} = X_t + mb_t$"
      ]
    },
    {
      "cell_type": "code",
      "execution_count": 6,
      "metadata": {
        "metadata": {}
      },
      "outputs": [
        {
          "name": "stdout",
          "output_type": "stream",
          "text": [
            "59.17999999999999\n"
          ]
        }
      ],
      "source": [
        "m = 3 # forecast week 3\n",
        "x_t = 30 # 30 sold current week\n",
        "X_t_minus = 50 # level estim sales 50 cars per week\n",
        "b_t_minus = 6 # trend estim sales 6 cars per week\n",
        "\n",
        "a = 0.3\n",
        "b = 0.3\n",
        "\n",
        "X_t = a * x_t + (1 - a) * (X_t_minus +  b_t_minus)\n",
        "bt = b * (X_t - X_t_minus) + (1 - b) * b_t_minus\n",
        "Ftm = X_t + m * bt\n",
        "print(Ftm)"
      ]
    },
    {
      "cell_type": "markdown",
      "metadata": {
        "id": "OzaYuRuogzWf"
      },
      "source": [
        "## Source\n",
        "Business Analytics Data Analysis & Decision Making "
      ]
    }
  ],
  "metadata": {
    "colab": {
      "provenance": []
    },
    "interpreter": {
      "hash": "e7370f93d1d0cde622a1f8e1c04877d8463912d04d973331ad4851f04de6915a"
    },
    "kernelspec": {
      "display_name": "Python 3.10.3 64-bit",
      "language": "python",
      "name": "python3"
    },
    "language_info": {
      "codemirror_mode": {
        "name": "ipython",
        "version": 3
      },
      "file_extension": ".py",
      "mimetype": "text/x-python",
      "name": "python",
      "nbconvert_exporter": "python",
      "pygments_lexer": "ipython3",
      "version": "3.10.13"
    },
    "orig_nbformat": 4
  },
  "nbformat": 4,
  "nbformat_minor": 0
}
